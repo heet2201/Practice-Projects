{
 "cells": [
  {
   "cell_type": "code",
   "execution_count": 9,
   "metadata": {},
   "outputs": [],
   "source": [
    "import numpy as np\n",
    "from sklearn.datasets import load_iris\n",
    "from sklearn.preprocessing import normalize\n",
    "from sklearn.cross_validation import train_test_split\n",
    "from sklearn.cluster import KMeans\n",
    "import matplotlib.pyplot as plt\n",
    "%matplotlib inline"
   ]
  },
  {
   "cell_type": "code",
   "execution_count": 104,
   "metadata": {},
   "outputs": [],
   "source": [
    "data=load_iris()\n",
    "x_train,x_test,y_train,y_test=train_test_split(normalize(data.data),data.target,test_size=0.15)\n"
   ]
  },
  {
   "cell_type": "code",
   "execution_count": 105,
   "metadata": {},
   "outputs": [
    {
     "data": {
      "text/plain": [
       "(127, 4)"
      ]
     },
     "execution_count": 105,
     "metadata": {},
     "output_type": "execute_result"
    }
   ],
   "source": [
    "x_train.shape\n",
    "#y_test.shape"
   ]
  },
  {
   "cell_type": "code",
   "execution_count": 106,
   "metadata": {},
   "outputs": [],
   "source": [
    "kmean=KMeans(n_clusters=3,max_iter=1000).fit(x_train)"
   ]
  },
  {
   "cell_type": "code",
   "execution_count": 107,
   "metadata": {},
   "outputs": [
    {
     "data": {
      "text/plain": [
       "array([0, 0, 1, 1, 1, 2, 0, 0, 0, 1, 0, 1, 1, 2, 2, 2, 2, 2, 0, 2, 0, 2,\n",
       "       1, 0, 1, 0, 2, 2, 1, 1, 0, 2, 0, 2, 1, 2, 0, 1, 2, 2, 2, 0, 0, 1,\n",
       "       1, 2, 1, 2, 0, 2, 0, 1, 0, 2, 0, 1, 0, 0, 0, 1, 0, 2, 1, 1, 0, 1,\n",
       "       0, 0, 2, 2, 1, 0, 1, 0, 2, 0, 0, 2, 2, 2, 2, 0, 0, 1, 0, 2, 2, 2,\n",
       "       1, 2, 0, 2, 2, 1, 0, 1, 1, 0, 2, 0, 0, 1, 1, 2, 2, 0, 1, 2, 2, 1,\n",
       "       2, 0, 0, 1, 1, 2, 2, 2, 0, 2, 1, 0, 2, 2, 1, 0, 2])"
      ]
     },
     "execution_count": 107,
     "metadata": {},
     "output_type": "execute_result"
    }
   ],
   "source": [
    "label=kmean.labels_\n",
    "label"
   ]
  },
  {
   "cell_type": "code",
   "execution_count": 108,
   "metadata": {},
   "outputs": [
    {
     "data": {
      "text/plain": [
       "array([0, 0, 1, 1, 1, 1, 0, 0, 0, 1, 0, 1, 1, 2, 2, 2, 2, 2, 0, 2, 0, 2,\n",
       "       1, 0, 1, 0, 2, 2, 1, 1, 0, 2, 0, 2, 1, 2, 0, 1, 2, 2, 2, 0, 0, 1,\n",
       "       1, 1, 1, 2, 0, 2, 0, 1, 0, 2, 0, 1, 0, 0, 0, 1, 0, 2, 1, 1, 0, 1,\n",
       "       0, 0, 2, 2, 1, 0, 1, 0, 2, 0, 0, 1, 2, 2, 2, 0, 0, 1, 0, 1, 2, 2,\n",
       "       1, 2, 0, 2, 2, 1, 0, 1, 1, 0, 2, 0, 0, 1, 1, 2, 1, 0, 1, 2, 2, 1,\n",
       "       2, 0, 0, 1, 1, 2, 2, 2, 0, 2, 1, 0, 2, 2, 1, 0, 2])"
      ]
     },
     "execution_count": 108,
     "metadata": {},
     "output_type": "execute_result"
    }
   ],
   "source": [
    "y_train"
   ]
  },
  {
   "cell_type": "code",
   "execution_count": 140,
   "metadata": {},
   "outputs": [
    {
     "data": {
      "text/plain": [
       "-0.28857548678844724"
      ]
     },
     "execution_count": 140,
     "metadata": {},
     "output_type": "execute_result"
    }
   ],
   "source": [
    "kmean.score(x_train,label)"
   ]
  },
  {
   "cell_type": "code",
   "execution_count": 110,
   "metadata": {},
   "outputs": [
    {
     "data": {
      "text/plain": [
       "array([1, 2, 0, 2, 1, 2, 1, 2, 1, 0, 1, 1, 1, 2, 2, 0, 0, 2, 1, 2, 0, 0,\n",
       "       1])"
      ]
     },
     "execution_count": 110,
     "metadata": {},
     "output_type": "execute_result"
    }
   ],
   "source": [
    "kmean.predict(x_test)"
   ]
  },
  {
   "cell_type": "code",
   "execution_count": 111,
   "metadata": {},
   "outputs": [
    {
     "data": {
      "text/plain": [
       "array([1, 2, 0, 2, 1, 2, 1, 2, 1, 0, 1, 1, 1, 2, 2, 0, 0, 2, 1, 2, 0, 0,\n",
       "       1])"
      ]
     },
     "execution_count": 111,
     "metadata": {},
     "output_type": "execute_result"
    }
   ],
   "source": [
    "y_test"
   ]
  },
  {
   "cell_type": "code",
   "execution_count": 112,
   "metadata": {},
   "outputs": [
    {
     "data": {
      "text/plain": [
       "-0.03486301127699831"
      ]
     },
     "execution_count": 112,
     "metadata": {},
     "output_type": "execute_result"
    }
   ],
   "source": [
    "kmean.score(x_test,y_test)"
   ]
  },
  {
   "cell_type": "code",
   "execution_count": null,
   "metadata": {},
   "outputs": [],
   "source": []
  },
  {
   "cell_type": "code",
   "execution_count": 113,
   "metadata": {},
   "outputs": [
    {
     "name": "stderr",
     "output_type": "stream",
     "text": [
      "No handles with labels found to put in legend.\n",
      "No handles with labels found to put in legend.\n"
     ]
    },
    {
     "data": {
      "text/plain": [
       "Text(0.5,1,'Predicted')"
      ]
     },
     "execution_count": 113,
     "metadata": {},
     "output_type": "execute_result"
    },
    {
     "data": {
      "image/png": "[encoded data removed]",
      "text/plain": [
       "<Figure size 432x288 with 4 Axes>"
      ]
     },
     "metadata": {},
     "output_type": "display_data"
    }
   ],
   "source": [
    "plt.subplot(1,2,1)\n",
    "plt.scatter(x_train[:,1],x_train[:,2],s=50,c=y_train)\n",
    "plt.colorbar()\n",
    "plt.legend()\n",
    "plt.title(\"Actual\")\n",
    "plt.subplot(1,2,2)\n",
    "plt.scatter(x_train[:,1],x_train[:,2],c=label,s=50)\n",
    "plt.colorbar()\n",
    "plt.legend()\n",
    "plt.title(\"Predicted\")"
   ]
  },
  {
   "cell_type": "code",
   "execution_count": null,
   "metadata": {},
   "outputs": [],
   "source": []
  },
  {
   "cell_type": "code",
   "execution_count": 114,
   "metadata": {},
   "outputs": [],
   "source": [
    "from sklearn.datasets import make_blobs"
   ]
  },
  {
   "cell_type": "code",
   "execution_count": 164,
   "metadata": {},
   "outputs": [
    {
     "data": {
      "text/plain": [
       "(500, 2)"
      ]
     },
     "execution_count": 164,
     "metadata": {},
     "output_type": "execute_result"
    }
   ],
   "source": [
    "data=make_blobs(n_samples=500, centers=6)\n",
    "x=data[0][:]\n",
    "y=data[1][:]\n",
    "x.shape"
   ]
  },
  {
   "cell_type": "code",
   "execution_count": 167,
   "metadata": {},
   "outputs": [],
   "source": [
    "kmeans=KMeans(n_clusters=6,max_iter=1000).fit(x)"
   ]
  },
  {
   "cell_type": "code",
   "execution_count": 168,
   "metadata": {},
   "outputs": [
    {
     "data": {
      "text/plain": [
       "array([2, 1, 1, 0, 5, 5, 4, 0, 3, 5, 5, 0, 1, 1, 3, 0, 4, 3, 2, 1, 1, 0,\n",
       "       2, 3, 2, 1, 0, 5, 1, 0, 2, 0, 3, 5, 4, 3, 0, 0, 2, 5, 0, 2, 4, 4,\n",
       "       4, 2, 2, 0, 0, 2, 0, 2, 1, 0, 4, 4, 4, 2, 1, 2, 3, 4, 3, 5, 5, 5,\n",
       "       3, 3, 3, 2, 4, 0, 1, 3, 2, 3, 2, 0, 0, 1, 2, 5, 5, 5, 0, 1, 1, 1,\n",
       "       1, 4, 1, 3, 4, 4, 1, 1, 1, 5, 1, 1, 2, 2, 1, 0, 0, 1, 1, 3, 0, 0,\n",
       "       3, 4, 2, 3, 2, 5, 0, 5, 2, 0, 1, 5, 4, 0, 3, 2, 4, 1, 5, 0, 3, 1,\n",
       "       1, 0, 2, 4, 3, 2, 0, 3, 1, 0, 3, 5, 0, 5, 2, 2, 4, 5, 5, 5, 2, 4,\n",
       "       4, 4, 0, 2, 4, 0, 3, 2, 5, 0, 1, 4, 3, 2, 4, 2, 1, 5, 1, 5, 0, 0,\n",
       "       4, 2, 0, 0, 0, 0, 1, 0, 1, 5, 0, 1, 3, 0, 2, 3, 3, 1, 5, 5, 5, 5,\n",
       "       2, 0, 1, 4, 3, 4, 3, 0, 2, 5, 4, 1, 3, 5, 1, 2, 2, 3, 0, 1, 1, 3,\n",
       "       3, 4, 3, 3, 0, 5, 3, 3, 5, 3, 5, 4, 4, 1, 1, 3, 5, 0, 4, 4, 4, 2,\n",
       "       5, 5, 3, 5, 1, 1, 0, 1, 3, 1, 0, 5, 1, 1, 5, 3, 0, 2, 3, 1, 1, 3,\n",
       "       5, 0, 3, 4, 5, 5, 1, 2, 0, 4, 5, 5, 4, 2, 5, 4, 5, 5, 4, 1, 3, 4,\n",
       "       5, 0, 4, 5, 3, 5, 4, 2, 2, 3, 0, 1, 0, 1, 4, 4, 4, 4, 5, 2, 1, 1,\n",
       "       2, 2, 5, 4, 5, 4, 5, 2, 4, 2, 0, 2, 3, 3, 4, 2, 4, 1, 4, 4, 5, 1,\n",
       "       1, 4, 1, 4, 5, 2, 1, 4, 5, 3, 3, 1, 0, 0, 4, 2, 1, 0, 5, 3, 5, 0,\n",
       "       4, 0, 2, 1, 3, 0, 5, 5, 2, 2, 1, 0, 4, 5, 0, 1, 3, 4, 3, 0, 2, 2,\n",
       "       3, 2, 2, 2, 5, 3, 3, 4, 0, 0, 5, 2, 5, 5, 4, 0, 0, 4, 3, 1, 2, 5,\n",
       "       5, 4, 0, 3, 4, 4, 5, 5, 2, 2, 3, 3, 4, 4, 0, 5, 0, 3, 5, 0, 5, 5,\n",
       "       4, 4, 4, 5, 3, 2, 1, 0, 1, 1, 0, 2, 3, 2, 5, 2, 3, 1, 3, 1, 4, 2,\n",
       "       1, 3, 4, 0, 0, 5, 1, 3, 2, 5, 1, 3, 0, 0, 4, 3, 0, 5, 2, 5, 3, 3,\n",
       "       4, 2, 0, 5, 0, 3, 0, 5, 5, 4, 5, 1, 2, 0, 4, 0, 5, 3, 1, 0, 2, 4,\n",
       "       4, 4, 1, 3, 1, 0, 2, 2, 4, 1, 5, 5, 5, 1, 4, 3])"
      ]
     },
     "execution_count": 168,
     "metadata": {},
     "output_type": "execute_result"
    }
   ],
   "source": [
    "labels=kmeans.predict(x)\n",
    "labels"
   ]
  },
  {
   "cell_type": "code",
   "execution_count": 169,
   "metadata": {},
   "outputs": [
    {
     "data": {
      "text/plain": [
       "array([1, 4, 4, 3, 0, 0, 2, 3, 5, 0, 0, 3, 4, 4, 5, 3, 2, 5, 1, 4, 4, 3,\n",
       "       1, 3, 1, 4, 3, 1, 4, 3, 1, 3, 5, 0, 2, 5, 3, 3, 1, 0, 3, 1, 2, 2,\n",
       "       2, 1, 1, 3, 3, 1, 3, 1, 4, 3, 2, 2, 2, 1, 4, 1, 5, 2, 3, 0, 0, 0,\n",
       "       5, 5, 3, 1, 2, 3, 4, 5, 1, 5, 1, 3, 3, 4, 1, 0, 0, 1, 3, 4, 4, 4,\n",
       "       4, 2, 4, 5, 2, 2, 4, 4, 4, 0, 4, 4, 1, 1, 4, 3, 3, 4, 4, 5, 3, 3,\n",
       "       5, 2, 1, 5, 1, 0, 3, 0, 1, 3, 4, 0, 2, 3, 5, 1, 2, 4, 0, 3, 5, 4,\n",
       "       4, 3, 0, 2, 5, 1, 5, 5, 4, 3, 5, 0, 3, 0, 1, 1, 2, 0, 0, 0, 0, 2,\n",
       "       2, 2, 3, 1, 2, 3, 5, 1, 0, 3, 4, 2, 5, 1, 2, 1, 4, 1, 4, 1, 3, 3,\n",
       "       2, 1, 3, 3, 5, 3, 4, 3, 4, 1, 3, 4, 3, 3, 1, 5, 5, 4, 0, 0, 0, 0,\n",
       "       1, 3, 4, 2, 5, 2, 5, 3, 1, 0, 2, 4, 5, 1, 4, 0, 1, 5, 3, 4, 4, 5,\n",
       "       5, 2, 5, 3, 3, 0, 5, 5, 0, 5, 0, 2, 2, 4, 4, 5, 0, 3, 2, 2, 2, 1,\n",
       "       0, 0, 5, 0, 4, 4, 3, 4, 5, 4, 3, 0, 4, 4, 1, 5, 3, 1, 5, 4, 4, 5,\n",
       "       0, 3, 5, 2, 0, 0, 4, 1, 5, 2, 0, 0, 2, 1, 0, 2, 0, 0, 2, 4, 5, 2,\n",
       "       0, 3, 2, 0, 5, 0, 2, 1, 1, 5, 3, 4, 3, 4, 2, 2, 2, 2, 0, 1, 4, 4,\n",
       "       1, 1, 0, 2, 1, 2, 0, 1, 2, 1, 3, 1, 5, 5, 2, 1, 2, 4, 2, 2, 0, 4,\n",
       "       4, 2, 4, 2, 1, 1, 4, 2, 0, 5, 5, 4, 3, 3, 2, 1, 4, 3, 0, 5, 0, 3,\n",
       "       2, 3, 1, 4, 5, 5, 0, 0, 1, 0, 4, 5, 2, 0, 3, 4, 5, 2, 5, 3, 1, 1,\n",
       "       5, 1, 1, 1, 0, 5, 5, 2, 3, 3, 0, 1, 0, 0, 2, 5, 5, 2, 5, 4, 1, 0,\n",
       "       0, 2, 3, 3, 2, 2, 0, 0, 1, 1, 5, 5, 2, 2, 3, 0, 5, 5, 0, 3, 0, 0,\n",
       "       2, 2, 2, 0, 5, 1, 4, 5, 4, 4, 5, 1, 5, 1, 0, 1, 5, 4, 5, 4, 2, 1,\n",
       "       4, 5, 2, 3, 5, 0, 4, 3, 1, 0, 4, 5, 3, 3, 2, 5, 3, 1, 1, 0, 5, 5,\n",
       "       2, 1, 3, 0, 3, 5, 3, 0, 0, 2, 0, 4, 1, 3, 2, 5, 1, 5, 4, 3, 1, 2,\n",
       "       2, 2, 4, 5, 4, 3, 1, 1, 2, 4, 0, 0, 0, 4, 2, 5])"
      ]
     },
     "execution_count": 169,
     "metadata": {},
     "output_type": "execute_result"
    }
   ],
   "source": [
    "y"
   ]
  },
  {
   "cell_type": "code",
   "execution_count": 170,
   "metadata": {},
   "outputs": [
    {
     "data": {
      "text/plain": [
       "-905.6648634125102"
      ]
     },
     "execution_count": 170,
     "metadata": {},
     "output_type": "execute_result"
    }
   ],
   "source": [
    "kmeans.score(x,labels)"
   ]
  },
  {
   "cell_type": "code",
   "execution_count": 171,
   "metadata": {},
   "outputs": [
    {
     "data": {
      "text/plain": [
       "<matplotlib.collections.PathCollection at 0x224f97f3be0>"
      ]
     },
     "execution_count": 171,
     "metadata": {},
     "output_type": "execute_result"
    },
    {
     "data": {
      "image/png": "[encoded data removed]",
      "text/plain": [
       "<Figure size 432x288 with 1 Axes>"
      ]
     },
     "metadata": {},
     "output_type": "display_data"
    }
   ],
   "source": [
    "plt.scatter(x[:,0],x[:,1],s=50,c=labels)"
   ]
  },
  {
   "cell_type": "code",
   "execution_count": null,
   "metadata": {},
   "outputs": [],
   "source": []
  }
 ],
 "metadata": {
  "kernelspec": {
   "display_name": "Python 3",
   "language": "python",
   "name": "python3"
  },
  "language_info": {
   "codemirror_mode": {
    "name": "ipython",
    "version": 3
   },
   "file_extension": ".py",
   "mimetype": "text/x-python",
   "name": "python",
   "nbconvert_exporter": "python",
   "pygments_lexer": "ipython3",
   "version": "3.6.5"
  }
 },
 "nbformat": 4,
 "nbformat_minor": 2
}
