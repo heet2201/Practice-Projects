{
 "cells": [
  {
   "cell_type": "code",
   "execution_count": 2,
   "metadata": {},
   "outputs": [],
   "source": [
    "import numpy as np\n",
    "from sklearn.datasets import load_iris\n",
    "from sklearn.utils import shuffle\n",
    "import pandas as pd\n",
    "import matplotlib.pyplot as plt\n",
    "%matplotlib inline"
   ]
  },
  {
   "cell_type": "code",
   "execution_count": 12,
   "metadata": {},
   "outputs": [
    {
     "data": {
      "text/plain": [
       "(1, 150)"
      ]
     },
     "execution_count": 12,
     "metadata": {},
     "output_type": "execute_result"
    }
   ],
   "source": [
    "data=load_iris()\n",
    "x=data.data\n",
    "y=data.target.reshape(1,x.shape[0])\n",
    "shuff=list(np.random.permutation(x.shape[0]))\n",
    "x=x[shuff,:].T\n",
    "y=y[:,shuff]\n",
    "\n",
    "#normalizing\n",
    "x=x-(np.sum(x,axis=0)/x.shape[0])\n",
    "sigma2=np.sum(x**2,axis=0)/x.shape[0]\n",
    "x=x/sigma2\n",
    "x.shape\n",
    "y.shape"
   ]
  },
  {
   "cell_type": "code",
   "execution_count": 22,
   "metadata": {},
   "outputs": [
    {
     "data": {
      "text/html": [
       "<style  type=\"text/css\" >\n",
       "    #T_e118d694_5399_11e9_9383_2047473720d6row0_col0 {\n",
       "            background-color:  #b40426;\n",
       "        }    #T_e118d694_5399_11e9_9383_2047473720d6row0_col1 {\n",
       "            background-color:  #e2dad5;\n",
       "        }    #T_e118d694_5399_11e9_9383_2047473720d6row0_col2 {\n",
       "            background-color:  #ccd9ed;\n",
       "        }    #T_e118d694_5399_11e9_9383_2047473720d6row0_col3 {\n",
       "            background-color:  #3b4cc0;\n",
       "        }    #T_e118d694_5399_11e9_9383_2047473720d6row0_col4 {\n",
       "            background-color:  #aac7fd;\n",
       "        }    #T_e118d694_5399_11e9_9383_2047473720d6row1_col0 {\n",
       "            background-color:  #d8dce2;\n",
       "        }    #T_e118d694_5399_11e9_9383_2047473720d6row1_col1 {\n",
       "            background-color:  #b40426;\n",
       "        }    #T_e118d694_5399_11e9_9383_2047473720d6row1_col2 {\n",
       "            background-color:  #3b4cc0;\n",
       "        }    #T_e118d694_5399_11e9_9383_2047473720d6row1_col3 {\n",
       "            background-color:  #dbdcde;\n",
       "        }    #T_e118d694_5399_11e9_9383_2047473720d6row1_col4 {\n",
       "            background-color:  #3b4cc0;\n",
       "        }    #T_e118d694_5399_11e9_9383_2047473720d6row2_col0 {\n",
       "            background-color:  #bcd2f7;\n",
       "        }    #T_e118d694_5399_11e9_9383_2047473720d6row2_col1 {\n",
       "            background-color:  #3b4cc0;\n",
       "        }    #T_e118d694_5399_11e9_9383_2047473720d6row2_col2 {\n",
       "            background-color:  #b40426;\n",
       "        }    #T_e118d694_5399_11e9_9383_2047473720d6row2_col3 {\n",
       "            background-color:  #bad0f8;\n",
       "        }    #T_e118d694_5399_11e9_9383_2047473720d6row2_col4 {\n",
       "            background-color:  #c32e31;\n",
       "        }    #T_e118d694_5399_11e9_9383_2047473720d6row3_col0 {\n",
       "            background-color:  #3b4cc0;\n",
       "        }    #T_e118d694_5399_11e9_9383_2047473720d6row3_col1 {\n",
       "            background-color:  #e5d8d1;\n",
       "        }    #T_e118d694_5399_11e9_9383_2047473720d6row3_col2 {\n",
       "            background-color:  #cad8ef;\n",
       "        }    #T_e118d694_5399_11e9_9383_2047473720d6row3_col3 {\n",
       "            background-color:  #b40426;\n",
       "        }    #T_e118d694_5399_11e9_9383_2047473720d6row3_col4 {\n",
       "            background-color:  #e4d9d2;\n",
       "        }    #T_e118d694_5399_11e9_9383_2047473720d6row4_col0 {\n",
       "            background-color:  #9ebeff;\n",
       "        }    #T_e118d694_5399_11e9_9383_2047473720d6row4_col1 {\n",
       "            background-color:  #445acc;\n",
       "        }    #T_e118d694_5399_11e9_9383_2047473720d6row4_col2 {\n",
       "            background-color:  #c12b30;\n",
       "        }    #T_e118d694_5399_11e9_9383_2047473720d6row4_col3 {\n",
       "            background-color:  #dedcdb;\n",
       "        }    #T_e118d694_5399_11e9_9383_2047473720d6row4_col4 {\n",
       "            background-color:  #b40426;\n",
       "        }</style>  \n",
       "<table id=\"T_e118d694_5399_11e9_9383_2047473720d6\" > \n",
       "<thead>    <tr> \n",
       "        <th class=\"blank level0\" ></th> \n",
       "        <th class=\"col_heading level0 col0\" >0</th> \n",
       "        <th class=\"col_heading level0 col1\" >1</th> \n",
       "        <th class=\"col_heading level0 col2\" >2</th> \n",
       "        <th class=\"col_heading level0 col3\" >3</th> \n",
       "        <th class=\"col_heading level0 col4\" >4</th> \n",
       "    </tr></thead> \n",
       "<tbody>    <tr> \n",
       "        <th id=\"T_e118d694_5399_11e9_9383_2047473720d6level0_row0\" class=\"row_heading level0 row0\" >0</th> \n",
       "        <td id=\"T_e118d694_5399_11e9_9383_2047473720d6row0_col0\" class=\"data row0 col0\" >1</td> \n",
       "        <td id=\"T_e118d694_5399_11e9_9383_2047473720d6row0_col1\" class=\"data row0 col1\" >0.0541397</td> \n",
       "        <td id=\"T_e118d694_5399_11e9_9383_2047473720d6row0_col2\" class=\"data row0 col2\" >-0.112357</td> \n",
       "        <td id=\"T_e118d694_5399_11e9_9383_2047473720d6row0_col3\" class=\"data row0 col3\" >-0.822153</td> \n",
       "        <td id=\"T_e118d694_5399_11e9_9383_2047473720d6row0_col4\" class=\"data row0 col4\" >-0.279852</td> \n",
       "    </tr>    <tr> \n",
       "        <th id=\"T_e118d694_5399_11e9_9383_2047473720d6level0_row1\" class=\"row_heading level0 row1\" >1</th> \n",
       "        <td id=\"T_e118d694_5399_11e9_9383_2047473720d6row1_col0\" class=\"data row1 col0\" >0.0541397</td> \n",
       "        <td id=\"T_e118d694_5399_11e9_9383_2047473720d6row1_col1\" class=\"data row1 col1\" >1</td> \n",
       "        <td id=\"T_e118d694_5399_11e9_9383_2047473720d6row1_col2\" class=\"data row1 col2\" >-0.982036</td> \n",
       "        <td id=\"T_e118d694_5399_11e9_9383_2047473720d6row1_col3\" class=\"data row1 col3\" >0.0754599</td> \n",
       "        <td id=\"T_e118d694_5399_11e9_9383_2047473720d6row1_col4\" class=\"data row1 col4\" >-0.919568</td> \n",
       "    </tr>    <tr> \n",
       "        <th id=\"T_e118d694_5399_11e9_9383_2047473720d6level0_row2\" class=\"row_heading level0 row2\" >2</th> \n",
       "        <td id=\"T_e118d694_5399_11e9_9383_2047473720d6row2_col0\" class=\"data row2 col0\" >-0.112357</td> \n",
       "        <td id=\"T_e118d694_5399_11e9_9383_2047473720d6row2_col1\" class=\"data row2 col1\" >-0.982036</td> \n",
       "        <td id=\"T_e118d694_5399_11e9_9383_2047473720d6row2_col2\" class=\"data row2 col2\" >1</td> \n",
       "        <td id=\"T_e118d694_5399_11e9_9383_2047473720d6row2_col3\" class=\"data row2 col3\" >-0.124737</td> \n",
       "        <td id=\"T_e118d694_5399_11e9_9383_2047473720d6row2_col4\" class=\"data row2 col4\" >0.924394</td> \n",
       "    </tr>    <tr> \n",
       "        <th id=\"T_e118d694_5399_11e9_9383_2047473720d6level0_row3\" class=\"row_heading level0 row3\" >3</th> \n",
       "        <td id=\"T_e118d694_5399_11e9_9383_2047473720d6row3_col0\" class=\"data row3 col0\" >-0.822153</td> \n",
       "        <td id=\"T_e118d694_5399_11e9_9383_2047473720d6row3_col1\" class=\"data row3 col1\" >0.0754599</td> \n",
       "        <td id=\"T_e118d694_5399_11e9_9383_2047473720d6row3_col2\" class=\"data row3 col2\" >-0.124737</td> \n",
       "        <td id=\"T_e118d694_5399_11e9_9383_2047473720d6row3_col3\" class=\"data row3 col3\" >1</td> \n",
       "        <td id=\"T_e118d694_5399_11e9_9383_2047473720d6row3_col4\" class=\"data row3 col4\" >0.0973805</td> \n",
       "    </tr>    <tr> \n",
       "        <th id=\"T_e118d694_5399_11e9_9383_2047473720d6level0_row4\" class=\"row_heading level0 row4\" >4</th> \n",
       "        <td id=\"T_e118d694_5399_11e9_9383_2047473720d6row4_col0\" class=\"data row4 col0\" >-0.279852</td> \n",
       "        <td id=\"T_e118d694_5399_11e9_9383_2047473720d6row4_col1\" class=\"data row4 col1\" >-0.919568</td> \n",
       "        <td id=\"T_e118d694_5399_11e9_9383_2047473720d6row4_col2\" class=\"data row4 col2\" >0.924394</td> \n",
       "        <td id=\"T_e118d694_5399_11e9_9383_2047473720d6row4_col3\" class=\"data row4 col3\" >0.0973805</td> \n",
       "        <td id=\"T_e118d694_5399_11e9_9383_2047473720d6row4_col4\" class=\"data row4 col4\" >1</td> \n",
       "    </tr></tbody> \n",
       "</table> "
      ],
      "text/plain": [
       "<pandas.io.formats.style.Styler at 0x148b5d7f9e8>"
      ]
     },
     "execution_count": 22,
     "metadata": {},
     "output_type": "execute_result"
    }
   ],
   "source": [
    "temp=np.append(x,y).reshape(150,5)\n",
    "df=pd.DataFrame(temp)\n",
    "vis=df.corr()\n",
    "vis.style.background_gradient(cmap=\"coolwarm\")"
   ]
  },
  {
   "cell_type": "code",
   "execution_count": 23,
   "metadata": {},
   "outputs": [
    {
     "data": {
      "text/plain": [
       "(4, 150)"
      ]
     },
     "execution_count": 23,
     "metadata": {},
     "output_type": "execute_result"
    }
   ],
   "source": [
    "x.shape"
   ]
  },
  {
   "cell_type": "code",
   "execution_count": 24,
   "metadata": {},
   "outputs": [
    {
     "name": "stdout",
     "output_type": "stream",
     "text": [
      "          0         1         2         3         4\n",
      "0  1.000000  0.054140 -0.112357 -0.822153 -0.279852\n",
      "1  0.054140  1.000000 -0.982036  0.075460 -0.919568\n",
      "2 -0.112357 -0.982036  1.000000 -0.124737  0.924394\n",
      "3 -0.822153  0.075460 -0.124737  1.000000  0.097381\n",
      "4 -0.279852 -0.919568  0.924394  0.097381  1.000000\n"
     ]
    },
    {
     "data": {
      "image/png": "[encoded data removed]",
      "text/plain": [
       "<Figure size 432x288 with 1 Axes>"
      ]
     },
     "metadata": {},
     "output_type": "display_data"
    }
   ],
   "source": [
    "df=pd.DataFrame(np.corrcoef(x,y))\n",
    "print(df)\n",
    "\n",
    "plt.scatter(x[0,:],y)\n",
    "plt.show()"
   ]
  },
  {
   "cell_type": "code",
   "execution_count": 18,
   "metadata": {},
   "outputs": [],
   "source": [
    "x_train=x[:,:125].reshape(4,125)\n",
    "y_train=y[:125].reshape(1,125)\n",
    "x_test=x[:,125:].reshape(4,25)\n",
    "y_test=y[125:].reshape(1,25)"
   ]
  },
  {
   "cell_type": "code",
   "execution_count": 7,
   "metadata": {},
   "outputs": [],
   "source": [
    "y_t1=np.zeros((x_train.shape[1],3))\n",
    "y_t1[np.arange(x_train.shape[1]),y_train]=1\n",
    "\n",
    "y_t2=np.zeros((x_test.shape[1],3))\n",
    "y_t2[np.arange(x_test.shape[1]),y_test]=1\n"
   ]
  },
  {
   "cell_type": "code",
   "execution_count": 8,
   "metadata": {},
   "outputs": [
    {
     "data": {
      "text/plain": [
       "'def relu_derivative(z):\\n    temp=np.zeros(z.shape)\\n    temp[z>0]=1\\n    return temp'"
      ]
     },
     "execution_count": 8,
     "metadata": {},
     "output_type": "execute_result"
    }
   ],
   "source": [
    "\"\"\"def relu_derivative(z):\n",
    "    temp=np.zeros(z.shape)\n",
    "    temp[z>0]=1\n",
    "    return temp\"\"\""
   ]
  },
  {
   "cell_type": "code",
   "execution_count": 10,
   "metadata": {},
   "outputs": [
    {
     "name": "stdout",
     "output_type": "stream",
     "text": [
      "cost after 0 iteration is : 1.3553445112220763\n",
      "cost after 100 iteration is : 0.9051470128752044\n",
      "cost after 200 iteration is : 0.8008658674762856\n",
      "cost after 300 iteration is : 0.7453021152942547\n",
      "cost after 400 iteration is : 0.7089029145991479\n",
      "cost after 500 iteration is : 0.682236164801178\n",
      "cost after 600 iteration is : 0.661319239734673\n",
      "cost after 700 iteration is : 0.6441599080406717\n",
      "cost after 800 iteration is : 0.6296391594349774\n",
      "cost after 900 iteration is : 0.6170727367224421\n",
      "cost after 1000 iteration is : 0.6060141445605158\n",
      "cost after 1100 iteration is : 0.5961558110782139\n",
      "cost after 1200 iteration is : 0.5872774502498778\n",
      "cost after 1300 iteration is : 0.5792155755996796\n",
      "cost after 1400 iteration is : 0.5718453283362962\n",
      "cost after 1500 iteration is : 0.5650690928606773\n",
      "cost after 1600 iteration is : 0.558808838917276\n",
      "cost after 1700 iteration is : 0.5530011876335484\n",
      "cost after 1800 iteration is : 0.5475938901958118\n",
      "cost after 1900 iteration is : 0.5425434189188902\n",
      "cost after 2000 iteration is : 0.5378131097515957\n",
      "cost after 2100 iteration is : 0.5333711904049655\n",
      "cost after 2200 iteration is : 0.5291905947741194\n",
      "cost after 2300 iteration is : 0.5252478459253805\n",
      "cost after 2400 iteration is : 0.5215224335005019\n",
      "cost after 2500 iteration is : 0.5179963459191248\n",
      "cost after 2600 iteration is : 0.5146536625521715\n",
      "cost after 2700 iteration is : 0.5114803567402801\n",
      "cost after 2800 iteration is : 0.5084637783680137\n",
      "cost after 2900 iteration is : 0.5055928607436965\n",
      "cost after 3000 iteration is : 0.5028572535259213\n",
      "cost after 3100 iteration is : 0.5002477341033829\n",
      "cost after 3200 iteration is : 0.4977560115018971\n",
      "cost after 3300 iteration is : 0.49537455738807673\n",
      "cost after 3400 iteration is : 0.4930965166176464\n",
      "cost after 3500 iteration is : 0.49091563058397913\n",
      "cost after 3600 iteration is : 0.4888261712052425\n",
      "cost after 3700 iteration is : 0.4868228838078875\n",
      "cost after 3800 iteration is : 0.4849009374921457\n",
      "cost after 3900 iteration is : 0.48305586066988854\n",
      "cost after 4000 iteration is : 0.4812835642893012\n",
      "cost after 4100 iteration is : 0.4795802518069138\n",
      "cost after 4200 iteration is : 0.47794240430004575\n",
      "cost after 4300 iteration is : 0.4763667566086544\n",
      "cost after 4400 iteration is : 0.47485027424551624\n",
      "cost after 4500 iteration is : 0.47339015082995317\n",
      "cost after 4600 iteration is : 0.47198378895518833\n",
      "cost after 4700 iteration is : 0.4706286769990392\n",
      "cost after 4800 iteration is : 0.4693225185873401\n",
      "cost after 4900 iteration is : 0.4680631647891933\n"
     ]
    },
    {
     "data": {
      "text/plain": [
       "'print(\"w1 :\"+str(w1))\\nprint(\"b1 :\"+str(b1))\\nprint(\"w2 :\"+str(w2))\\nprint(\"b2 :\"+str(b2))\\nprint(\"w3 :\"+str(w3))\\nprint(\"b3 :\"+str(b3))'"
      ]
     },
     "execution_count": 10,
     "metadata": {},
     "output_type": "execute_result"
    }
   ],
   "source": [
    "learning_rate=0.0355\n",
    "lambd=0.075\n",
    "iter=5000\n",
    "cost_cache=[]\n",
    "\n",
    "w1=np.random.rand(50,4) * np.sqrt(2/x_train.shape[0])\n",
    "b1=np.zeros((50,1))\n",
    "w2=np.random.rand(70,50)*np.sqrt(2/w1.shape[1])\n",
    "b2=np.zeros((70,1))\n",
    "w3=np.random.rand(3,70) * np.sqrt(1/w2.shape[1])\n",
    "b3=np.zeros((3,1))\n",
    "m=x_train.shape[1]\n",
    "\n",
    "\n",
    "for i in range(iter):\n",
    "    #for prop\n",
    "    z1=np.dot(w1,x_train)+b1\n",
    "    a1=np.maximum(0,z1)\n",
    "    z2=np.dot(w2,a1)+b2\n",
    "    a2=np.maximum(0,z2)\n",
    "    z3=np.dot(w3,a2)+b3\n",
    "    a3=np.exp(z3)/np.sum(np.exp(z3),axis=0)\n",
    "\n",
    "    logprobs = np.multiply(-np.log(a3),y_t1.T)\n",
    "    cost = 1./m * np.nansum(logprobs)+(lambd/(2*m))*(np.sum(w1**2)+np.sum(w2**2)+np.sum(w3**2))\n",
    "    cost_cache.append(cost)\n",
    "    if i%100==0:\n",
    "        print(\"cost after \"+str(i)+\" iteration is : \"+str(cost))\n",
    "\n",
    "    #back prop\n",
    "    dz3=(a3-y_t1.T)\n",
    "    dw3=(np.dot(dz3,a2.T)+(lambd)*w3)/m\n",
    "    db3=np.sum(dz3,axis=1,keepdims=True)/m\n",
    "    w3=w3-learning_rate*dw3\n",
    "    b3=b3-learning_rate*db3\n",
    "\n",
    "    dz2=np.dot(dw3.T,dz3)*np.int64(z2>0)\n",
    "    dw2=(np.dot(dz2,a1.T)+(lambd)*w2)/m\n",
    "    db2=np.sum(dz2,axis=1,keepdims=True)/m\n",
    "    w2=w2-learning_rate*dw2\n",
    "    b2=b2-learning_rate*db2\n",
    "\n",
    "    dz1=np.dot(dw2.T,dz2)*np.int64(z1>0)\n",
    "    dw1=(np.dot(dz1,x_train.T)+(lambd)*w1)/m\n",
    "    db1=np.sum(dz1,axis=1,keepdims=True)/m\n",
    "\n",
    "    w1=w1-learning_rate*dw1\n",
    "    b1=b1-learning_rate*db1\n",
    "    \n",
    "parameters={\"w1\":w1,\n",
    "            \"b1\":b1,\n",
    "            \"w2\":w2,\n",
    "            \"b2\":b2,\n",
    "            \"w3\":w3,\n",
    "            \"b3\":b3\n",
    "}    \n",
    "\n",
    "\"\"\"print(\"w1 :\"+str(w1))\n",
    "print(\"b1 :\"+str(b1))\n",
    "print(\"w2 :\"+str(w2))\n",
    "print(\"b2 :\"+str(b2))\n",
    "print(\"w3 :\"+str(w3))\n",
    "print(\"b3 :\"+str(b3))\"\"\""
   ]
  },
  {
   "cell_type": "code",
   "execution_count": 11,
   "metadata": {},
   "outputs": [
    {
     "name": "stdout",
     "output_type": "stream",
     "text": [
      "Train Accuracy : 94.39999999999999 %\n",
      "Test Accuracy : 96.0 %\n"
     ]
    }
   ],
   "source": [
    "def predict(x,parameters):\n",
    "    w1=parameters[\"w1\"]\n",
    "    b1=parameters[\"b1\"]\n",
    "    w2=parameters[\"w2\"]\n",
    "    b2=parameters[\"b2\"]\n",
    "    w3=parameters[\"w3\"]\n",
    "    b3=parameters[\"b3\"]\n",
    "    \n",
    "    z1=np.dot(w1,x)+b1\n",
    "    a1=np.maximum(0,z1)\n",
    "    z2=np.dot(w2,a1)+b2\n",
    "    a2=np.maximum(0,z2)\n",
    "    z3=np.dot(w3,a2)+b3\n",
    "    a3=np.exp(z3)/np.sum(np.exp(z3),axis=0)\n",
    "\n",
    "    l=np.argmax(a3,axis=0)\n",
    "    return l;\n",
    "\n",
    "print(\"Train Accuracy : \"+str(np.mean(predict(x_train,parameters)==y_train)*100)+\" %\")\n",
    "print(\"Test Accuracy : \"+str(np.mean(predict(x_test,parameters)==y_test)*100)+\" %\")"
   ]
  },
  {
   "cell_type": "code",
   "execution_count": 12,
   "metadata": {},
   "outputs": [],
   "source": [
    "import matplotlib.pyplot as plt\n",
    "i=np.arange(iter)\n",
    "#c=cost_cache[2000:2100:2]"
   ]
  },
  {
   "cell_type": "code",
   "execution_count": 13,
   "metadata": {},
   "outputs": [
    {
     "data": {
      "text/plain": [
       "Text(0.5,1,'cost showing')"
      ]
     },
     "execution_count": 13,
     "metadata": {},
     "output_type": "execute_result"
    },
    {
     "data": {
      "image/png": "[encoded data removed]",
      "text/plain": [
       "<Figure size 432x288 with 1 Axes>"
      ]
     },
     "metadata": {},
     "output_type": "display_data"
    }
   ],
   "source": [
    "plt.plot(i,cost_cache)\n",
    "plt.xlabel(\"#iteration\")\n",
    "plt.ylabel(\"cost\")\n",
    "plt.title(\"cost showing\")"
   ]
  },
  {
   "cell_type": "code",
   "execution_count": 14,
   "metadata": {},
   "outputs": [],
   "source": [
    "import scipy\n",
    "from scipy import ndimage"
   ]
  },
  {
   "cell_type": "code",
   "execution_count": 16,
   "metadata": {},
   "outputs": [
    {
     "name": "stderr",
     "output_type": "stream",
     "text": [
      "C:\\Users\\Admin\\Anaconda3\\lib\\site-packages\\ipykernel_launcher.py:3: DeprecationWarning: `imread` is deprecated!\n",
      "`imread` is deprecated in SciPy 1.0.0.\n",
      "Use ``matplotlib.pyplot.imread`` instead.\n",
      "  This is separate from the ipykernel package so we can avoid doing imports until\n"
     ]
    },
    {
     "ename": "ValueError",
     "evalue": "shapes (50,4) and (6912,1) not aligned: 4 (dim 1) != 6912 (dim 0)",
     "output_type": "error",
     "traceback": [
      "\u001b[1;31m---------------------------------------------------------------------------\u001b[0m",
      "\u001b[1;31mValueError\u001b[0m                                Traceback (most recent call last)",
      "\u001b[1;32m<ipython-input-16-40dd1a7d20a2>\u001b[0m in \u001b[0;36m<module>\u001b[1;34m()\u001b[0m\n\u001b[0;32m      3\u001b[0m \u001b[0mimage\u001b[0m \u001b[1;33m=\u001b[0m \u001b[0mnp\u001b[0m\u001b[1;33m.\u001b[0m\u001b[0marray\u001b[0m\u001b[1;33m(\u001b[0m\u001b[0mndimage\u001b[0m\u001b[1;33m.\u001b[0m\u001b[0mimread\u001b[0m\u001b[1;33m(\u001b[0m\u001b[0mfname\u001b[0m\u001b[1;33m,\u001b[0m \u001b[0mflatten\u001b[0m\u001b[1;33m=\u001b[0m\u001b[1;32mTrue\u001b[0m\u001b[1;33m)\u001b[0m\u001b[1;33m)\u001b[0m\u001b[1;33m\u001b[0m\u001b[0m\n\u001b[0;32m      4\u001b[0m \u001b[1;31m#my_image = scipy.misc.imresize(image, size=(num_px,num_px)).reshape((1, num_px*num_px*3)).T\u001b[0m\u001b[1;33m\u001b[0m\u001b[1;33m\u001b[0m\u001b[0m\n\u001b[1;32m----> 5\u001b[1;33m \u001b[0mpre\u001b[0m\u001b[1;33m=\u001b[0m\u001b[0mpredict\u001b[0m\u001b[1;33m(\u001b[0m\u001b[0mmy_image\u001b[0m\u001b[1;33m,\u001b[0m\u001b[0mparameters\u001b[0m\u001b[1;33m)\u001b[0m\u001b[1;33m\u001b[0m\u001b[0m\n\u001b[0m",
      "\u001b[1;32m<ipython-input-11-76ee8fe89307>\u001b[0m in \u001b[0;36mpredict\u001b[1;34m(x, parameters)\u001b[0m\n\u001b[0;32m      7\u001b[0m     \u001b[0mb3\u001b[0m\u001b[1;33m=\u001b[0m\u001b[0mparameters\u001b[0m\u001b[1;33m[\u001b[0m\u001b[1;34m\"b3\"\u001b[0m\u001b[1;33m]\u001b[0m\u001b[1;33m\u001b[0m\u001b[0m\n\u001b[0;32m      8\u001b[0m \u001b[1;33m\u001b[0m\u001b[0m\n\u001b[1;32m----> 9\u001b[1;33m     \u001b[0mz1\u001b[0m\u001b[1;33m=\u001b[0m\u001b[0mnp\u001b[0m\u001b[1;33m.\u001b[0m\u001b[0mdot\u001b[0m\u001b[1;33m(\u001b[0m\u001b[0mw1\u001b[0m\u001b[1;33m,\u001b[0m\u001b[0mx\u001b[0m\u001b[1;33m)\u001b[0m\u001b[1;33m+\u001b[0m\u001b[0mb1\u001b[0m\u001b[1;33m\u001b[0m\u001b[0m\n\u001b[0m\u001b[0;32m     10\u001b[0m     \u001b[0ma1\u001b[0m\u001b[1;33m=\u001b[0m\u001b[0mnp\u001b[0m\u001b[1;33m.\u001b[0m\u001b[0mmaximum\u001b[0m\u001b[1;33m(\u001b[0m\u001b[1;36m0\u001b[0m\u001b[1;33m,\u001b[0m\u001b[0mz1\u001b[0m\u001b[1;33m)\u001b[0m\u001b[1;33m\u001b[0m\u001b[0m\n\u001b[0;32m     11\u001b[0m     \u001b[0mz2\u001b[0m\u001b[1;33m=\u001b[0m\u001b[0mnp\u001b[0m\u001b[1;33m.\u001b[0m\u001b[0mdot\u001b[0m\u001b[1;33m(\u001b[0m\u001b[0mw2\u001b[0m\u001b[1;33m,\u001b[0m\u001b[0ma1\u001b[0m\u001b[1;33m)\u001b[0m\u001b[1;33m+\u001b[0m\u001b[0mb2\u001b[0m\u001b[1;33m\u001b[0m\u001b[0m\n",
      "\u001b[1;31mValueError\u001b[0m: shapes (50,4) and (6912,1) not aligned: 4 (dim 1) != 6912 (dim 0)"
     ]
    }
   ],
   "source": [
    "num_px=4\n",
    "fname=\"H:\\image\\images.jpg\"\n",
    "image = np.array(ndimage.imread(fname, flatten=True))\n",
    "#my_image = scipy.misc.imresize(image, size=(num_px,num_px)).reshape((1, num_px*num_px*3)).T\n",
    "pre=predict(my_image,parameters)\n"
   ]
  },
  {
   "cell_type": "code",
   "execution_count": null,
   "metadata": {},
   "outputs": [],
   "source": []
  }
 ],
 "metadata": {
  "kernelspec": {
   "display_name": "Python 3",
   "language": "python",
   "name": "python3"
  },
  "language_info": {
   "codemirror_mode": {
    "name": "ipython",
    "version": 3
   },
   "file_extension": ".py",
   "mimetype": "text/x-python",
   "name": "python",
   "nbconvert_exporter": "python",
   "pygments_lexer": "ipython3",
   "version": "3.6.5"
  }
 },
 "nbformat": 4,
 "nbformat_minor": 2
}
