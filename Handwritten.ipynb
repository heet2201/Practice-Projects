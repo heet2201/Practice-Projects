{
 "cells": [
  {
   "cell_type": "code",
   "execution_count": 2,
   "metadata": {},
   "outputs": [
    {
     "name": "stderr",
     "output_type": "stream",
     "text": [
      "C:\\Users\\Admin\\Anaconda_N\\lib\\site-packages\\sklearn\\cross_validation.py:41: DeprecationWarning: This module was deprecated in version 0.18 in favor of the model_selection module into which all the refactored classes and functions are moved. Also note that the interface of the new CV iterators are different from that of this module. This module will be removed in 0.20.\n",
      "  \"This module will be removed in 0.20.\", DeprecationWarning)\n"
     ]
    }
   ],
   "source": [
    "import numpy as np\n",
    "from sklearn.cross_validation import train_test_split\n",
    "from sklearn.metrics import classification_report\n",
    "from sklearn.datasets import load_digits\n",
    "import pandas as pd\n",
    "import matplotlib.pyplot as plt"
   ]
  },
  {
   "cell_type": "code",
   "execution_count": 3,
   "metadata": {},
   "outputs": [],
   "source": [
    "data=load_digits()"
   ]
  },
  {
   "cell_type": "code",
   "execution_count": 4,
   "metadata": {},
   "outputs": [
    {
     "data": {
      "text/plain": [
       "(1527, 8, 8, 1)"
      ]
     },
     "execution_count": 4,
     "metadata": {},
     "output_type": "execute_result"
    }
   ],
   "source": [
    "(x_train,x_test,y_train,y_test)=train_test_split(data.data/255,data.target.astype(\"int0\"),test_size=0.15)\n",
    "m=x_train.shape[0]\n",
    "m1=x_test.shape[0]\n",
    "x_train=x_train.reshape(m,8,8,1)\n",
    "x_test=x_test.reshape(m1,8,8,1)\n",
    "x_train.shape"
   ]
  },
  {
   "cell_type": "code",
   "execution_count": 5,
   "metadata": {},
   "outputs": [
    {
     "data": {
      "text/plain": [
       "<matplotlib.image.AxesImage at 0x1df5e8ad978>"
      ]
     },
     "execution_count": 5,
     "metadata": {},
     "output_type": "execute_result"
    },
    {
     "data": {
      "image/png": "[encoded data removed]",
      "text/plain": [
       "<Figure size 432x288 with 1 Axes>"
      ]
     },
     "metadata": {},
     "output_type": "display_data"
    }
   ],
   "source": [
    "plt.gray()\n",
    "plt.imshow(data.images[0]) \n"
   ]
  },
  {
   "cell_type": "code",
   "execution_count": 9,
   "metadata": {},
   "outputs": [],
   "source": [
    "import keras\n",
    "from keras.models import Sequential\n",
    "from keras.layers import Dense, Dropout,Conv2D,Activation,MaxPooling2D,Flatten\n",
    "import keras.backend as k"
   ]
  },
  {
   "cell_type": "code",
   "execution_count": 10,
   "metadata": {},
   "outputs": [],
   "source": [
    "model=Sequential()\n",
    "model.add(Conv2D(32, (3, 3) ,padding=\"same\",activation='relu', input_shape=(8,8,1)))\n",
    "model.add(Conv2D(32, (3, 3) ,padding=\"same\",activation='relu'))\n",
    "model.add(Dropout(0.25))\n",
    "\n",
    "model.add(Conv2D(64, (3, 3),padding=\"same\", activation='relu'))\n",
    "model.add(Conv2D(64, (3, 3), padding=\"same\",activation='relu'))\n",
    "model.add(MaxPooling2D(pool_size=(2, 2)))\n",
    "model.add(Dropout(0.25))\n",
    "\n",
    "model.add(Flatten())\n",
    "model.add(Dense(512, activation='relu'))\n",
    "model.add(Dropout(0.5))\n",
    "model.add(Dense(256, activation='relu'))\n",
    "model.add(Dropout(0.5))\n",
    "model.add(Dense(10, activation='softmax'))"
   ]
  },
  {
   "cell_type": "code",
   "execution_count": 11,
   "metadata": {},
   "outputs": [],
   "source": [
    "opt=keras.optimizers.Adam(lr=0.001, beta_1=0.9, beta_2=0.999, epsilon=None, decay=0.0, amsgrad=False)\n",
    "\n",
    "model.compile(loss='sparse_categorical_crossentropy',\n",
    "              optimizer=opt,\n",
    "              metrics=['accuracy'])"
   ]
  },
  {
   "cell_type": "code",
   "execution_count": 12,
   "metadata": {},
   "outputs": [
    {
     "name": "stdout",
     "output_type": "stream",
     "text": [
      "WARNING:tensorflow:From C:\\Users\\Admin\\Anaconda_N\\lib\\site-packages\\tensorflow\\python\\ops\\math_ops.py:3066: to_int32 (from tensorflow.python.ops.math_ops) is deprecated and will be removed in a future version.\n",
      "Instructions for updating:\n",
      "Use tf.cast instead.\n",
      "Train on 1527 samples, validate on 270 samples\n",
      "Epoch 1/40\n",
      "1527/1527 [==============================] - 8s 5ms/step - loss: 2.3008 - acc: 0.1015 - val_loss: 2.2809 - val_acc: 0.4926\n",
      "Epoch 2/40\n",
      "1527/1527 [==============================] - 3s 2ms/step - loss: 1.9652 - acc: 0.3039 - val_loss: 0.9446 - val_acc: 0.7037\n",
      "Epoch 3/40\n",
      "1527/1527 [==============================] - 3s 2ms/step - loss: 0.8941 - acc: 0.6896 - val_loss: 0.4122 - val_acc: 0.8593\n",
      "Epoch 4/40\n",
      "1527/1527 [==============================] - 3s 2ms/step - loss: 0.5488 - acc: 0.8120 - val_loss: 0.2908 - val_acc: 0.9037\n",
      "Epoch 5/40\n",
      "1527/1527 [==============================] - 3s 2ms/step - loss: 0.3489 - acc: 0.8946 - val_loss: 0.1937 - val_acc: 0.9333\n",
      "Epoch 6/40\n",
      "1527/1527 [==============================] - 3s 2ms/step - loss: 0.2547 - acc: 0.9136 - val_loss: 0.1384 - val_acc: 0.9444\n",
      "Epoch 7/40\n",
      "1527/1527 [==============================] - 3s 2ms/step - loss: 0.1921 - acc: 0.9437 - val_loss: 0.1474 - val_acc: 0.9556\n",
      "Epoch 8/40\n",
      "1527/1527 [==============================] - 3s 2ms/step - loss: 0.1847 - acc: 0.9417 - val_loss: 0.1492 - val_acc: 0.9444\n",
      "Epoch 9/40\n",
      "1527/1527 [==============================] - 3s 2ms/step - loss: 0.1585 - acc: 0.9542 - val_loss: 0.1397 - val_acc: 0.9630\n",
      "Epoch 10/40\n",
      "1527/1527 [==============================] - 3s 2ms/step - loss: 0.1253 - acc: 0.9555 - val_loss: 0.1265 - val_acc: 0.9556\n",
      "Epoch 11/40\n",
      "1527/1527 [==============================] - 3s 2ms/step - loss: 0.0995 - acc: 0.9686 - val_loss: 0.0692 - val_acc: 0.9741\n",
      "Epoch 12/40\n",
      "1527/1527 [==============================] - 3s 2ms/step - loss: 0.0896 - acc: 0.9699 - val_loss: 0.0495 - val_acc: 0.9815\n",
      "Epoch 13/40\n",
      "1527/1527 [==============================] - 3s 2ms/step - loss: 0.0671 - acc: 0.9771 - val_loss: 0.0380 - val_acc: 0.9852\n",
      "Epoch 14/40\n",
      "1527/1527 [==============================] - 3s 2ms/step - loss: 0.0678 - acc: 0.9790 - val_loss: 0.0562 - val_acc: 0.9815\n",
      "Epoch 15/40\n",
      "1527/1527 [==============================] - 3s 2ms/step - loss: 0.0765 - acc: 0.9758 - val_loss: 0.0678 - val_acc: 0.9778\n",
      "Epoch 16/40\n",
      "1527/1527 [==============================] - 3s 2ms/step - loss: 0.0706 - acc: 0.9784 - val_loss: 0.0541 - val_acc: 0.9815\n",
      "Epoch 17/40\n",
      "1527/1527 [==============================] - 3s 2ms/step - loss: 0.0553 - acc: 0.9823 - val_loss: 0.0387 - val_acc: 0.9889\n",
      "Epoch 18/40\n",
      "1527/1527 [==============================] - 3s 2ms/step - loss: 0.0435 - acc: 0.9882 - val_loss: 0.0518 - val_acc: 0.9889\n",
      "Epoch 19/40\n",
      "1527/1527 [==============================] - 3s 2ms/step - loss: 0.0563 - acc: 0.9817 - val_loss: 0.0442 - val_acc: 0.9778\n",
      "Epoch 20/40\n",
      "1527/1527 [==============================] - 3s 2ms/step - loss: 0.0451 - acc: 0.9862 - val_loss: 0.0651 - val_acc: 0.9741\n",
      "Epoch 21/40\n",
      "1527/1527 [==============================] - 3s 2ms/step - loss: 0.0395 - acc: 0.9862 - val_loss: 0.0691 - val_acc: 0.9815\n",
      "Epoch 22/40\n",
      "1527/1527 [==============================] - 3s 2ms/step - loss: 0.0431 - acc: 0.9876 - val_loss: 0.0571 - val_acc: 0.9852\n",
      "Epoch 23/40\n",
      "1527/1527 [==============================] - 3s 2ms/step - loss: 0.0371 - acc: 0.9869 - val_loss: 0.0742 - val_acc: 0.9889\n",
      "Epoch 24/40\n",
      "1527/1527 [==============================] - 3s 2ms/step - loss: 0.0390 - acc: 0.9902 - val_loss: 0.0301 - val_acc: 0.9852\n",
      "Epoch 25/40\n",
      "1527/1527 [==============================] - 3s 2ms/step - loss: 0.0287 - acc: 0.9908 - val_loss: 0.0250 - val_acc: 0.9852\n",
      "Epoch 26/40\n",
      "1527/1527 [==============================] - 3s 2ms/step - loss: 0.0259 - acc: 0.9908 - val_loss: 0.0173 - val_acc: 0.9852\n",
      "Epoch 27/40\n",
      "1527/1527 [==============================] - 3s 2ms/step - loss: 0.0316 - acc: 0.9902 - val_loss: 0.0281 - val_acc: 0.9889\n",
      "Epoch 28/40\n",
      "1527/1527 [==============================] - 3s 2ms/step - loss: 0.0184 - acc: 0.9928 - val_loss: 0.0301 - val_acc: 0.9852\n",
      "Epoch 29/40\n",
      "1527/1527 [==============================] - 3s 2ms/step - loss: 0.0261 - acc: 0.9921 - val_loss: 0.0260 - val_acc: 0.9926\n",
      "Epoch 30/40\n",
      "1527/1527 [==============================] - 3s 2ms/step - loss: 0.0217 - acc: 0.9935 - val_loss: 0.0152 - val_acc: 0.9926\n",
      "Epoch 31/40\n",
      "1527/1527 [==============================] - 3s 2ms/step - loss: 0.0429 - acc: 0.9882 - val_loss: 0.0304 - val_acc: 0.9926\n",
      "Epoch 32/40\n",
      "1527/1527 [==============================] - 3s 2ms/step - loss: 0.0329 - acc: 0.9908 - val_loss: 0.0125 - val_acc: 0.9963\n",
      "Epoch 33/40\n",
      "1527/1527 [==============================] - 3s 2ms/step - loss: 0.0184 - acc: 0.9948 - val_loss: 0.0219 - val_acc: 0.9889\n",
      "Epoch 34/40\n",
      "1527/1527 [==============================] - 3s 2ms/step - loss: 0.0149 - acc: 0.9935 - val_loss: 0.0163 - val_acc: 0.9963\n",
      "Epoch 35/40\n",
      "1527/1527 [==============================] - 3s 2ms/step - loss: 0.0105 - acc: 0.9967 - val_loss: 0.0084 - val_acc: 0.9963\n",
      "Epoch 36/40\n",
      "1527/1527 [==============================] - 3s 2ms/step - loss: 0.0324 - acc: 0.9882 - val_loss: 0.0273 - val_acc: 0.9926\n",
      "Epoch 37/40\n",
      "1527/1527 [==============================] - 3s 2ms/step - loss: 0.0279 - acc: 0.9921 - val_loss: 0.0166 - val_acc: 0.9926\n",
      "Epoch 38/40\n",
      "1527/1527 [==============================] - 3s 2ms/step - loss: 0.0304 - acc: 0.9882 - val_loss: 0.0496 - val_acc: 0.9852\n",
      "Epoch 39/40\n",
      "1527/1527 [==============================] - 3s 2ms/step - loss: 0.0200 - acc: 0.9921 - val_loss: 0.0231 - val_acc: 0.9852\n",
      "Epoch 40/40\n",
      "1527/1527 [==============================] - 3s 2ms/step - loss: 0.0145 - acc: 0.9954 - val_loss: 0.0231 - val_acc: 0.9889\n"
     ]
    },
    {
     "data": {
      "text/plain": [
       "<keras.callbacks.History at 0x1df6bcd0b70>"
      ]
     },
     "execution_count": 12,
     "metadata": {},
     "output_type": "execute_result"
    }
   ],
   "source": [
    "model.fit(x_train,y_train, epochs=40, batch_size=64, validation_data=(x_test,y_test),shuffle=True)"
   ]
  },
  {
   "cell_type": "code",
   "execution_count": 15,
   "metadata": {},
   "outputs": [
    {
     "data": {
      "text/plain": [
       "array([1, 6, 2, 6, 9, 4, 7, 2, 5, 2, 0, 6, 8, 8, 6, 8, 7, 4, 3, 9, 4, 4,\n",
       "       5, 2, 8, 4, 3, 2, 0, 5, 9, 1, 3, 3, 4, 6, 8, 5, 6, 1, 2, 9, 8, 8,\n",
       "       7, 4, 1, 7, 7, 7, 8, 0, 5, 1, 3, 9, 1, 8, 5, 1, 6, 2, 5, 5, 2, 8,\n",
       "       5, 0, 9, 3, 7, 0, 8, 7, 7, 3, 3, 6, 4, 4, 3, 4, 1, 1, 2, 4, 2, 0,\n",
       "       1, 9, 5, 1, 3, 7, 7, 5, 6, 9, 8, 9, 8, 9, 5, 4, 4, 3, 2, 1, 2, 5,\n",
       "       2, 7, 3, 1, 1, 7, 2, 2, 2, 4, 2, 5, 9, 7, 2, 4, 0, 0, 5, 5, 7, 1,\n",
       "       5, 5, 1, 5, 0, 5, 7, 4, 4, 8, 1, 4, 6, 3, 5, 6, 6, 3, 8, 1, 4, 6,\n",
       "       4, 4, 6, 6, 8, 8, 0, 4, 9, 5, 0, 0, 7, 0, 2, 1, 3, 7, 4, 6, 4, 5,\n",
       "       4, 0, 8, 4, 7, 4, 7, 9, 2, 5, 9, 5, 3, 1, 9, 4, 1, 4, 5, 9, 7, 8,\n",
       "       7, 9, 0, 1, 0, 3, 1, 3, 9, 8, 3, 0, 9, 9, 0, 6, 4, 2, 0, 8, 3, 1,\n",
       "       6, 6, 1, 7, 4, 6, 7, 6, 8, 9, 1, 2, 3, 7, 0, 1, 2, 0, 1, 3, 3, 0,\n",
       "       8, 1, 6, 5, 0, 7, 2, 3, 7, 1, 7, 0, 8, 1, 6, 6, 7, 9, 2, 0, 8, 3,\n",
       "       5, 8, 9, 6, 7, 6], dtype=int64)"
      ]
     },
     "execution_count": 15,
     "metadata": {},
     "output_type": "execute_result"
    }
   ],
   "source": [
    "l=model.predict(x_test)\n",
    "y_pred=np.argmax(l,axis=1)\n",
    "y_pred"
   ]
  },
  {
   "cell_type": "code",
   "execution_count": 16,
   "metadata": {},
   "outputs": [
    {
     "data": {
      "text/plain": [
       "array([1, 6, 2, 8, 9, 4, 7, 2, 5, 2, 0, 6, 8, 8, 6, 8, 7, 4, 3, 9, 4, 4,\n",
       "       5, 2, 8, 4, 3, 2, 0, 5, 9, 1, 3, 3, 4, 6, 8, 5, 6, 1, 8, 9, 8, 8,\n",
       "       7, 4, 1, 7, 7, 7, 8, 0, 5, 1, 3, 9, 1, 8, 5, 1, 6, 2, 5, 5, 2, 8,\n",
       "       5, 0, 9, 3, 7, 0, 8, 7, 7, 3, 3, 6, 4, 4, 3, 4, 1, 1, 2, 4, 2, 0,\n",
       "       1, 9, 5, 1, 3, 7, 7, 5, 6, 9, 8, 9, 8, 9, 5, 0, 4, 3, 2, 1, 2, 5,\n",
       "       2, 7, 3, 1, 1, 7, 2, 2, 2, 4, 2, 5, 9, 7, 2, 4, 0, 0, 5, 5, 7, 1,\n",
       "       5, 5, 1, 5, 0, 5, 7, 4, 4, 8, 1, 4, 6, 3, 5, 6, 6, 3, 8, 1, 4, 6,\n",
       "       4, 4, 6, 6, 8, 8, 0, 4, 9, 5, 0, 0, 7, 0, 2, 1, 3, 7, 4, 6, 4, 5,\n",
       "       4, 0, 8, 4, 7, 4, 7, 9, 2, 5, 9, 5, 3, 1, 9, 4, 1, 4, 5, 9, 7, 8,\n",
       "       7, 9, 0, 1, 0, 3, 1, 3, 9, 8, 3, 0, 9, 9, 0, 6, 4, 2, 0, 8, 3, 1,\n",
       "       6, 6, 1, 7, 4, 6, 7, 6, 8, 9, 1, 2, 3, 7, 0, 1, 2, 0, 1, 3, 3, 0,\n",
       "       8, 1, 6, 5, 0, 7, 2, 3, 7, 1, 7, 0, 8, 1, 6, 6, 7, 9, 2, 0, 8, 3,\n",
       "       5, 8, 9, 6, 7, 6], dtype=int64)"
      ]
     },
     "execution_count": 16,
     "metadata": {},
     "output_type": "execute_result"
    }
   ],
   "source": [
    "y_test"
   ]
  },
  {
   "cell_type": "code",
   "execution_count": 17,
   "metadata": {},
   "outputs": [
    {
     "name": "stdout",
     "output_type": "stream",
     "text": [
      "             precision    recall  f1-score   support\n",
      "\n",
      "    class 0       1.00      0.96      0.98        26\n",
      "    class 1       1.00      1.00      1.00        31\n",
      "    class 2       0.96      1.00      0.98        24\n",
      "    class 3       1.00      1.00      1.00        25\n",
      "    class 4       0.97      1.00      0.98        30\n",
      "    class 5       1.00      1.00      1.00        28\n",
      "    class 6       0.96      1.00      0.98        25\n",
      "    class 7       1.00      1.00      1.00        30\n",
      "    class 8       1.00      0.93      0.96        28\n",
      "    class 9       1.00      1.00      1.00        23\n",
      "\n",
      "avg / total       0.99      0.99      0.99       270\n",
      "\n"
     ]
    }
   ],
   "source": [
    "target_names=[\"class 0\",\"class 1\",\"class 2\",\"class 3\",\"class 4\",\"class 5\",\"class 6\",\"class 7\",\"class 8\",\"class 9\"]\n",
    "print(classification_report(y_test, y_pred, target_names=target_names))"
   ]
  },
  {
   "cell_type": "code",
   "execution_count": 115,
   "metadata": {},
   "outputs": [],
   "source": [
    "import cv2\n",
    "import matplotlib.pyplot as plt"
   ]
  },
  {
   "cell_type": "code",
   "execution_count": 121,
   "metadata": {},
   "outputs": [
    {
     "data": {
      "text/plain": [
       "array(None, dtype=object)"
      ]
     },
     "execution_count": 121,
     "metadata": {},
     "output_type": "execute_result"
    },
    {
     "data": {
      "image/png": "[encoded data removed]",
      "text/plain": [
       "<Figure size 432x288 with 1 Axes>"
      ]
     },
     "metadata": {},
     "output_type": "display_data"
    }
   ],
   "source": [
    "img=cv2.imread(r\"download1.jpg\")\n",
    "plt.gray()\n",
    "plt.imshow(img,cmap = plt.get_cmap(name = 'gray'))\n",
    "img=img.resize(1,8,8,1)\n",
    "arr=np.array(img)\n",
    "arr"
   ]
  },
  {
   "cell_type": "code",
   "execution_count": 122,
   "metadata": {},
   "outputs": [
    {
     "ename": "ValueError",
     "evalue": "Error when checking input: expected conv2d_5_input to have 4 dimensions, but got array with shape ()",
     "output_type": "error",
     "traceback": [
      "\u001b[1;31m---------------------------------------------------------------------------\u001b[0m",
      "\u001b[1;31mValueError\u001b[0m                                Traceback (most recent call last)",
      "\u001b[1;32m<ipython-input-122-66cfa85eb213>\u001b[0m in \u001b[0;36m<module>\u001b[1;34m()\u001b[0m\n\u001b[1;32m----> 1\u001b[1;33m \u001b[0ml\u001b[0m\u001b[1;33m=\u001b[0m\u001b[0mmodel\u001b[0m\u001b[1;33m.\u001b[0m\u001b[0mpredict\u001b[0m\u001b[1;33m(\u001b[0m\u001b[0marr\u001b[0m\u001b[1;33m)\u001b[0m\u001b[1;33m\u001b[0m\u001b[0m\n\u001b[0m\u001b[0;32m      2\u001b[0m \u001b[0my_pred\u001b[0m\u001b[1;33m=\u001b[0m\u001b[0mnp\u001b[0m\u001b[1;33m.\u001b[0m\u001b[0margmax\u001b[0m\u001b[1;33m(\u001b[0m\u001b[0ml\u001b[0m\u001b[1;33m,\u001b[0m\u001b[0maxis\u001b[0m\u001b[1;33m=\u001b[0m\u001b[1;36m1\u001b[0m\u001b[1;33m)\u001b[0m\u001b[1;33m\u001b[0m\u001b[0m\n\u001b[0;32m      3\u001b[0m \u001b[0my_pred\u001b[0m\u001b[1;33m\u001b[0m\u001b[0m\n",
      "\u001b[1;32m~\\Anaconda_N\\lib\\site-packages\\keras\\engine\\training.py\u001b[0m in \u001b[0;36mpredict\u001b[1;34m(self, x, batch_size, verbose, steps)\u001b[0m\n\u001b[0;32m   1147\u001b[0m                              'argument.')\n\u001b[0;32m   1148\u001b[0m         \u001b[1;31m# Validate user data.\u001b[0m\u001b[1;33m\u001b[0m\u001b[1;33m\u001b[0m\u001b[0m\n\u001b[1;32m-> 1149\u001b[1;33m         \u001b[0mx\u001b[0m\u001b[1;33m,\u001b[0m \u001b[0m_\u001b[0m\u001b[1;33m,\u001b[0m \u001b[0m_\u001b[0m \u001b[1;33m=\u001b[0m \u001b[0mself\u001b[0m\u001b[1;33m.\u001b[0m\u001b[0m_standardize_user_data\u001b[0m\u001b[1;33m(\u001b[0m\u001b[0mx\u001b[0m\u001b[1;33m)\u001b[0m\u001b[1;33m\u001b[0m\u001b[0m\n\u001b[0m\u001b[0;32m   1150\u001b[0m         \u001b[1;32mif\u001b[0m \u001b[0mself\u001b[0m\u001b[1;33m.\u001b[0m\u001b[0mstateful\u001b[0m\u001b[1;33m:\u001b[0m\u001b[1;33m\u001b[0m\u001b[0m\n\u001b[0;32m   1151\u001b[0m             \u001b[1;32mif\u001b[0m \u001b[0mx\u001b[0m\u001b[1;33m[\u001b[0m\u001b[1;36m0\u001b[0m\u001b[1;33m]\u001b[0m\u001b[1;33m.\u001b[0m\u001b[0mshape\u001b[0m\u001b[1;33m[\u001b[0m\u001b[1;36m0\u001b[0m\u001b[1;33m]\u001b[0m \u001b[1;33m>\u001b[0m \u001b[0mbatch_size\u001b[0m \u001b[1;32mand\u001b[0m \u001b[0mx\u001b[0m\u001b[1;33m[\u001b[0m\u001b[1;36m0\u001b[0m\u001b[1;33m]\u001b[0m\u001b[1;33m.\u001b[0m\u001b[0mshape\u001b[0m\u001b[1;33m[\u001b[0m\u001b[1;36m0\u001b[0m\u001b[1;33m]\u001b[0m \u001b[1;33m%\u001b[0m \u001b[0mbatch_size\u001b[0m \u001b[1;33m!=\u001b[0m \u001b[1;36m0\u001b[0m\u001b[1;33m:\u001b[0m\u001b[1;33m\u001b[0m\u001b[0m\n",
      "\u001b[1;32m~\\Anaconda_N\\lib\\site-packages\\keras\\engine\\training.py\u001b[0m in \u001b[0;36m_standardize_user_data\u001b[1;34m(self, x, y, sample_weight, class_weight, check_array_lengths, batch_size)\u001b[0m\n\u001b[0;32m    749\u001b[0m             \u001b[0mfeed_input_shapes\u001b[0m\u001b[1;33m,\u001b[0m\u001b[1;33m\u001b[0m\u001b[0m\n\u001b[0;32m    750\u001b[0m             \u001b[0mcheck_batch_axis\u001b[0m\u001b[1;33m=\u001b[0m\u001b[1;32mFalse\u001b[0m\u001b[1;33m,\u001b[0m  \u001b[1;31m# Don't enforce the batch size.\u001b[0m\u001b[1;33m\u001b[0m\u001b[0m\n\u001b[1;32m--> 751\u001b[1;33m             exception_prefix='input')\n\u001b[0m\u001b[0;32m    752\u001b[0m \u001b[1;33m\u001b[0m\u001b[0m\n\u001b[0;32m    753\u001b[0m         \u001b[1;32mif\u001b[0m \u001b[0my\u001b[0m \u001b[1;32mis\u001b[0m \u001b[1;32mnot\u001b[0m \u001b[1;32mNone\u001b[0m\u001b[1;33m:\u001b[0m\u001b[1;33m\u001b[0m\u001b[0m\n",
      "\u001b[1;32m~\\Anaconda_N\\lib\\site-packages\\keras\\engine\\training_utils.py\u001b[0m in \u001b[0;36mstandardize_input_data\u001b[1;34m(data, names, shapes, check_batch_axis, exception_prefix)\u001b[0m\n\u001b[0;32m    126\u001b[0m                         \u001b[1;34m': expected '\u001b[0m \u001b[1;33m+\u001b[0m \u001b[0mnames\u001b[0m\u001b[1;33m[\u001b[0m\u001b[0mi\u001b[0m\u001b[1;33m]\u001b[0m \u001b[1;33m+\u001b[0m \u001b[1;34m' to have '\u001b[0m \u001b[1;33m+\u001b[0m\u001b[1;33m\u001b[0m\u001b[0m\n\u001b[0;32m    127\u001b[0m                         \u001b[0mstr\u001b[0m\u001b[1;33m(\u001b[0m\u001b[0mlen\u001b[0m\u001b[1;33m(\u001b[0m\u001b[0mshape\u001b[0m\u001b[1;33m)\u001b[0m\u001b[1;33m)\u001b[0m \u001b[1;33m+\u001b[0m \u001b[1;34m' dimensions, but got array '\u001b[0m\u001b[1;33m\u001b[0m\u001b[0m\n\u001b[1;32m--> 128\u001b[1;33m                         'with shape ' + str(data_shape))\n\u001b[0m\u001b[0;32m    129\u001b[0m                 \u001b[1;32mif\u001b[0m \u001b[1;32mnot\u001b[0m \u001b[0mcheck_batch_axis\u001b[0m\u001b[1;33m:\u001b[0m\u001b[1;33m\u001b[0m\u001b[0m\n\u001b[0;32m    130\u001b[0m                     \u001b[0mdata_shape\u001b[0m \u001b[1;33m=\u001b[0m \u001b[0mdata_shape\u001b[0m\u001b[1;33m[\u001b[0m\u001b[1;36m1\u001b[0m\u001b[1;33m:\u001b[0m\u001b[1;33m]\u001b[0m\u001b[1;33m\u001b[0m\u001b[0m\n",
      "\u001b[1;31mValueError\u001b[0m: Error when checking input: expected conv2d_5_input to have 4 dimensions, but got array with shape ()"
     ]
    }
   ],
   "source": [
    "l=model.predict(arr)\n",
    "y_pred=np.argmax(l,axis=1)\n",
    "y_pred"
   ]
  },
  {
   "cell_type": "code",
   "execution_count": null,
   "metadata": {},
   "outputs": [],
   "source": []
  },
  {
   "cell_type": "code",
   "execution_count": 4,
   "metadata": {},
   "outputs": [],
   "source": [
    "from PIL import Image\n",
    "import matplotlib.pyplot as plt"
   ]
  },
  {
   "cell_type": "code",
   "execution_count": 11,
   "metadata": {},
   "outputs": [
    {
     "data": {
      "text/plain": [
       "<matplotlib.image.AxesImage at 0x169152de2b0>"
      ]
     },
     "execution_count": 11,
     "metadata": {},
     "output_type": "execute_result"
    },
    {
     "data": {
      "image/png": "[encoded data removed]",
      "text/plain": [
       "<Figure size 432x288 with 1 Axes>"
      ]
     },
     "metadata": {},
     "output_type": "display_data"
    }
   ],
   "source": [
    "img = Image.open(r\"download8.jpg\")\n",
    "img=img.resize((8,8))\n",
    "plt.imshow(img)"
   ]
  },
  {
   "cell_type": "code",
   "execution_count": 177,
   "metadata": {},
   "outputs": [
    {
     "data": {
      "text/plain": [
       "64"
      ]
     },
     "execution_count": 177,
     "metadata": {},
     "output_type": "execute_result"
    }
   ],
   "source": [
    "pix_val = list(img.getdata())\n",
    "len(pix_val)"
   ]
  },
  {
   "cell_type": "code",
   "execution_count": 178,
   "metadata": {},
   "outputs": [
    {
     "data": {
      "text/plain": [
       "array([[[[0.        ],\n",
       "         [0.        ],\n",
       "         [0.        ],\n",
       "         [0.        ],\n",
       "         [0.        ],\n",
       "         [0.        ],\n",
       "         [0.        ],\n",
       "         [0.        ]],\n",
       "\n",
       "        [[0.00784314],\n",
       "         [0.25882353],\n",
       "         [0.74117647],\n",
       "         [0.48627451],\n",
       "         [0.16078431],\n",
       "         [0.        ],\n",
       "         [0.        ],\n",
       "         [0.        ]],\n",
       "\n",
       "        [[0.01960784],\n",
       "         [0.07058824],\n",
       "         [0.00392157],\n",
       "         [0.        ],\n",
       "         [0.88627451],\n",
       "         [0.18431373],\n",
       "         [0.        ],\n",
       "         [0.        ]],\n",
       "\n",
       "        [[0.        ],\n",
       "         [0.        ],\n",
       "         [0.        ],\n",
       "         [1.        ],\n",
       "         [0.99607843],\n",
       "         [0.        ],\n",
       "         [0.        ],\n",
       "         [0.        ]],\n",
       "\n",
       "        [[0.        ],\n",
       "         [0.        ],\n",
       "         [0.        ],\n",
       "         [0.00392157],\n",
       "         [0.5254902 ],\n",
       "         [1.        ],\n",
       "         [0.00784314],\n",
       "         [0.        ]],\n",
       "\n",
       "        [[0.        ],\n",
       "         [0.00784314],\n",
       "         [0.        ],\n",
       "         [0.02745098],\n",
       "         [0.01568627],\n",
       "         [0.94509804],\n",
       "         [0.43529412],\n",
       "         [0.        ]],\n",
       "\n",
       "        [[0.        ],\n",
       "         [0.        ],\n",
       "         [1.        ],\n",
       "         [0.74901961],\n",
       "         [0.98039216],\n",
       "         [0.95294118],\n",
       "         [0.00784314],\n",
       "         [0.        ]],\n",
       "\n",
       "        [[0.        ],\n",
       "         [0.        ],\n",
       "         [0.02352941],\n",
       "         [0.        ],\n",
       "         [0.        ],\n",
       "         [0.00784314],\n",
       "         [0.        ],\n",
       "         [0.        ]]]])"
      ]
     },
     "execution_count": 178,
     "metadata": {},
     "output_type": "execute_result"
    }
   ],
   "source": [
    "pix_val=np.array(pix_val)\n",
    "pix_val=pix_val[:,0].reshape(1,8,8,1)\n",
    "pix_val=pix_val/255\n",
    "pix_val"
   ]
  },
  {
   "cell_type": "code",
   "execution_count": 179,
   "metadata": {},
   "outputs": [
    {
     "data": {
      "text/plain": [
       "array([3], dtype=int64)"
      ]
     },
     "execution_count": 179,
     "metadata": {},
     "output_type": "execute_result"
    }
   ],
   "source": [
    "l=model.predict(pix_val)\n",
    "y_pred=np.argmax(l,axis=1)\n",
    "y_pred"
   ]
  },
  {
   "cell_type": "code",
   "execution_count": null,
   "metadata": {},
   "outputs": [],
   "source": []
  }
 ],
 "metadata": {
  "kernelspec": {
   "display_name": "Python 3",
   "language": "python",
   "name": "python3"
  },
  "language_info": {
   "codemirror_mode": {
    "name": "ipython",
    "version": 3
   },
   "file_extension": ".py",
   "mimetype": "text/x-python",
   "name": "python",
   "nbconvert_exporter": "python",
   "pygments_lexer": "ipython3",
   "version": "3.6.5"
  }
 },
 "nbformat": 4,
 "nbformat_minor": 2
}
